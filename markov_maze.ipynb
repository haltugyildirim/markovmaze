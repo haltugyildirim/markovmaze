{
 "cells": [
  {
   "cell_type": "code",
   "execution_count": 8,
   "metadata": {},
   "outputs": [],
   "source": [
    "import pyemma"
   ]
  },
  {
   "cell_type": "code",
   "execution_count": 29,
   "metadata": {
    "scrolled": true
   },
   "outputs": [
    {
     "name": "stderr",
     "output_type": "stream",
     "text": [
      "C:\\Users\\Seldon\\AppData\\Local\\conda\\conda\\envs\\py36\\lib\\site-packages\\ipykernel_launcher.py:19: DeprecationWarning: This function is deprecated. Please call randint(0, 2 + 1) instead\n",
      "C:\\Users\\Seldon\\AppData\\Local\\conda\\conda\\envs\\py36\\lib\\site-packages\\ipykernel_launcher.py:28: DeprecationWarning: This function is deprecated. Please call randint(0, 1 + 1) instead\n",
      "C:\\Users\\Seldon\\AppData\\Local\\conda\\conda\\envs\\py36\\lib\\site-packages\\ipykernel_launcher.py:28: DeprecationWarning: This function is deprecated. Please call randint(0, 3 + 1) instead\n"
     ]
    },
    {
     "data": {
      "image/png": "[encoded data removed]",
      "text/plain": [
       "<matplotlib.figure.Figure at 0x189940e9fd0>"
      ]
     },
     "metadata": {},
     "output_type": "display_data"
    },
    {
     "name": "stdout",
     "output_type": "stream",
     "text": [
      "[[1 0 1 1 1 1 1 1 1 1 1]\n",
      " [1 0 0 0 0 0 0 0 0 0 1]\n",
      " [1 0 1 1 1 1 1 1 1 0 1]\n",
      " [1 0 1 0 0 0 0 0 1 0 1]\n",
      " [1 0 1 0 1 1 1 1 1 0 1]\n",
      " [1 0 1 0 1 0 0 0 0 0 1]\n",
      " [1 0 1 0 1 0 1 1 1 0 1]\n",
      " [1 0 1 0 1 0 1 0 1 0 1]\n",
      " [1 0 1 0 1 1 1 0 1 1 1]\n",
      " [1 0 0 0 0 0 0 0 0 0 0]\n",
      " [1 1 1 1 1 1 1 1 1 1 1]]\n"
     ]
    },
    {
     "name": "stderr",
     "output_type": "stream",
     "text": [
      "C:\\Users\\Seldon\\AppData\\Local\\conda\\conda\\envs\\py36\\lib\\site-packages\\ipykernel_launcher.py:19: DeprecationWarning: This function is deprecated. Please call randint(0, 5 + 1) instead\n",
      "C:\\Users\\Seldon\\AppData\\Local\\conda\\conda\\envs\\py36\\lib\\site-packages\\ipykernel_launcher.py:28: DeprecationWarning: This function is deprecated. Please call randint(0, 2 + 1) instead\n"
     ]
    }
   ],
   "source": [
    "import numpy\n",
    "from numpy.random import random_integers as randint\n",
    "import matplotlib.pyplot as pyplot\n",
    "\n",
    "def maze(width=50, height=50, complexity=.75, density=.75):\n",
    "    # Only odd shapes\n",
    "    shape = ((height // 2) * 2 + 1, (width // 2) * 2 + 1)\n",
    "    # Adjust complexity and density relative to maze size\n",
    "    complexity = int(complexity * (5 * (shape[0] + shape[1])))\n",
    "    density    = int(density * ((shape[0] // 2) * (shape[1] // 2)))\n",
    "    # Build actual maze\n",
    "    Z = numpy.zeros(shape, dtype=int)\n",
    "    # Fill borders\n",
    "    Z[0, :] = Z[-1, :] = 1\n",
    "    Z[:, 0] = Z[:, -1] = 1\n",
    "    Z[0, 1] = Z[height-1,height] = 0\n",
    "    # Make aisles\n",
    "    for i in range(density):\n",
    "        x, y = randint(0, shape[1] // 2) * 2, randint(0, shape[0] // 2) * 2\n",
    "        Z[y, x] = 1\n",
    "        for j in range(complexity):\n",
    "            neighbours = []\n",
    "            if x > 1:             neighbours.append((y, x - 2))\n",
    "            if x < shape[1] - 2:  neighbours.append((y, x + 2))\n",
    "            if y > 1:             neighbours.append((y - 2, x))\n",
    "            if y < shape[0] - 2:  neighbours.append((y + 2, x))\n",
    "            if len(neighbours):\n",
    "                y_,x_ = neighbours[randint(0, len(neighbours) - 1)]\n",
    "                if Z[y_, x_] == 0:\n",
    "                    Z[y_, x_] = 1\n",
    "                    Z[y_ + (y - y_) // 2, x_ + (x - x_) // 2] = 1\n",
    "                    x, y = x_, y_\n",
    "    return Z\n",
    "#    for x in range(width):\n",
    "#        for y in range(height):\n",
    "#           if Z[]\n",
    "\n",
    "pyplot.figure(figsize=(10, 10))\n",
    "pyplot.imshow(maze(4,4), cmap=pyplot.cm.binary, interpolation='nearest')\n",
    "pyplot.xticks([]), pyplot.yticks([])\n",
    "pyplot.show()\n",
    "print(maze(10,10))\n",
    "\n"
   ]
  },
  {
   "cell_type": "code",
   "execution_count": 19,
   "metadata": {},
   "outputs": [
    {
     "name": "stderr",
     "output_type": "stream",
     "text": [
      "C:\\Users\\Seldon\\AppData\\Local\\conda\\conda\\envs\\py36\\lib\\site-packages\\ipykernel_launcher.py:19: DeprecationWarning: This function is deprecated. Please call randint(0, 5 + 1) instead\n",
      "C:\\Users\\Seldon\\AppData\\Local\\conda\\conda\\envs\\py36\\lib\\site-packages\\ipykernel_launcher.py:28: DeprecationWarning: This function is deprecated. Please call randint(0, 2 + 1) instead\n",
      "C:\\Users\\Seldon\\AppData\\Local\\conda\\conda\\envs\\py36\\lib\\site-packages\\ipykernel_launcher.py:28: DeprecationWarning: This function is deprecated. Please call randint(0, 3 + 1) instead\n",
      "C:\\Users\\Seldon\\AppData\\Local\\conda\\conda\\envs\\py36\\lib\\site-packages\\ipykernel_launcher.py:28: DeprecationWarning: This function is deprecated. Please call randint(0, 1 + 1) instead\n"
     ]
    },
    {
     "ename": "TypeError",
     "evalue": "Argument dtraj is not a discrete trajectory - only list of integers or int-ndarrays are allowed. Check type of array([[1, 0, 1, 1, 1, 1, 1, 1, 1, 1, 1],\n       [1, 0, 0, 0, 0, 0, 0, 0, 0, 0, 1],\n       [1, 1, 1, 1, 1, 1, 1, 0, 1, 0, 1],\n       [1, 0, 0, 0, 0, 0, 1, 0, 1, 0, 1],\n       [1, 0, 1, 1, 1, 0, 1, 1, 1, 0, 1],\n       [1, 0, 1, 0, 1, 0, 0, 0, 1, 0, 1],\n       [1, 0, 1, 0, 1, 0, 1, 0, 1, 0, 1],\n       [1, 0, 1, 0, 1, 0, 1, 0, 1, 0, 1],\n       [1, 0, 1, 0, 1, 1, 1, 1, 1, 0, 1],\n       [1, 0, 0, 0, 0, 0, 0, 0, 0, 0, 0],\n       [1, 1, 1, 1, 1, 1, 1, 1, 1, 1, 1]])",
     "output_type": "error",
     "traceback": [
      "\u001b[1;31m---------------------------------------------------------------------------\u001b[0m",
      "\u001b[1;31mTypeError\u001b[0m                                 Traceback (most recent call last)",
      "\u001b[1;32m<ipython-input-19-4d6aa7803e99>\u001b[0m in \u001b[0;36m<module>\u001b[1;34m()\u001b[0m\n\u001b[1;32m----> 1\u001b[1;33m \u001b[0mM\u001b[0m \u001b[1;33m=\u001b[0m \u001b[0mpyemma\u001b[0m\u001b[1;33m.\u001b[0m\u001b[0mmsm\u001b[0m\u001b[1;33m.\u001b[0m\u001b[0mestimate_markov_model\u001b[0m\u001b[1;33m(\u001b[0m\u001b[0mmaze\u001b[0m\u001b[1;33m(\u001b[0m\u001b[1;36m10\u001b[0m\u001b[1;33m,\u001b[0m\u001b[1;36m10\u001b[0m\u001b[1;33m)\u001b[0m\u001b[1;33m,\u001b[0m \u001b[0mlag\u001b[0m\u001b[1;33m=\u001b[0m\u001b[1;36m12\u001b[0m\u001b[1;33m)\u001b[0m\u001b[1;33m\u001b[0m\u001b[0m\n\u001b[0m",
      "\u001b[1;32m~\\AppData\\Local\\conda\\conda\\envs\\py36\\lib\\site-packages\\pyemma\\msm\\api.py\u001b[0m in \u001b[0;36mestimate_markov_model\u001b[1;34m(dtrajs, lag, reversible, statdist, count_mode, weights, sparse, connectivity, dt_traj, maxiter, maxerr, score_method, score_k, mincount_connectivity)\u001b[0m\n\u001b[0;32m    606\u001b[0m                         mincount_connectivity=mincount_connectivity)\n\u001b[0;32m    607\u001b[0m         \u001b[1;31m# estimate and return\u001b[0m\u001b[1;33m\u001b[0m\u001b[1;33m\u001b[0m\u001b[0m\n\u001b[1;32m--> 608\u001b[1;33m         \u001b[1;32mreturn\u001b[0m \u001b[0mmlmsm\u001b[0m\u001b[1;33m.\u001b[0m\u001b[0mestimate\u001b[0m\u001b[1;33m(\u001b[0m\u001b[0mdtrajs\u001b[0m\u001b[1;33m)\u001b[0m\u001b[1;33m\u001b[0m\u001b[0m\n\u001b[0m\u001b[0;32m    609\u001b[0m     \u001b[1;32melif\u001b[0m \u001b[0mweights\u001b[0m \u001b[1;33m==\u001b[0m \u001b[1;34m'oom'\u001b[0m\u001b[1;33m:\u001b[0m\u001b[1;33m\u001b[0m\u001b[0m\n\u001b[0;32m    610\u001b[0m         \u001b[1;32mif\u001b[0m \u001b[1;33m(\u001b[0m\u001b[0mstatdist\u001b[0m \u001b[1;32mis\u001b[0m \u001b[1;32mnot\u001b[0m \u001b[1;32mNone\u001b[0m\u001b[1;33m)\u001b[0m \u001b[1;32mor\u001b[0m \u001b[1;33m(\u001b[0m\u001b[0mmaxiter\u001b[0m \u001b[1;33m!=\u001b[0m \u001b[1;36m1000000\u001b[0m\u001b[1;33m)\u001b[0m \u001b[1;32mor\u001b[0m \u001b[1;33m(\u001b[0m\u001b[0mmaxerr\u001b[0m \u001b[1;33m!=\u001b[0m \u001b[1;36m1e-8\u001b[0m\u001b[1;33m)\u001b[0m\u001b[1;33m:\u001b[0m\u001b[1;33m\u001b[0m\u001b[0m\n",
      "\u001b[1;32m~\\AppData\\Local\\conda\\conda\\envs\\py36\\lib\\site-packages\\pyemma\\msm\\estimators\\maximum_likelihood_msm.py\u001b[0m in \u001b[0;36mestimate\u001b[1;34m(self, dtrajs, **kwargs)\u001b[0m\n\u001b[0;32m    211\u001b[0m \u001b[1;33m\u001b[0m\u001b[0m\n\u001b[0;32m    212\u001b[0m         \"\"\"\n\u001b[1;32m--> 213\u001b[1;33m         \u001b[0mdtrajs\u001b[0m \u001b[1;33m=\u001b[0m \u001b[0mensure_dtraj_list\u001b[0m\u001b[1;33m(\u001b[0m\u001b[0mdtrajs\u001b[0m\u001b[1;33m)\u001b[0m  \u001b[1;31m# ensure format\u001b[0m\u001b[1;33m\u001b[0m\u001b[0m\n\u001b[0m\u001b[0;32m    214\u001b[0m         \u001b[1;32mreturn\u001b[0m \u001b[0msuper\u001b[0m\u001b[1;33m(\u001b[0m\u001b[0m_MSMEstimator\u001b[0m\u001b[1;33m,\u001b[0m \u001b[0mself\u001b[0m\u001b[1;33m)\u001b[0m\u001b[1;33m.\u001b[0m\u001b[0mestimate\u001b[0m\u001b[1;33m(\u001b[0m\u001b[0mdtrajs\u001b[0m\u001b[1;33m,\u001b[0m \u001b[1;33m**\u001b[0m\u001b[0mkwargs\u001b[0m\u001b[1;33m)\u001b[0m\u001b[1;33m\u001b[0m\u001b[0m\n\u001b[0;32m    215\u001b[0m \u001b[1;33m\u001b[0m\u001b[0m\n",
      "\u001b[1;32m~\\AppData\\Local\\conda\\conda\\envs\\py36\\lib\\site-packages\\pyemma\\util\\types.py\u001b[0m in \u001b[0;36mensure_dtraj_list\u001b[1;34m(dtrajs)\u001b[0m\n\u001b[0;32m    178\u001b[0m             \u001b[1;32mreturn\u001b[0m \u001b[0mdtrajs\u001b[0m\u001b[1;33m\u001b[0m\u001b[0m\n\u001b[0;32m    179\u001b[0m     \u001b[1;32melse\u001b[0m\u001b[1;33m:\u001b[0m\u001b[1;33m\u001b[0m\u001b[0m\n\u001b[1;32m--> 180\u001b[1;33m         \u001b[1;32mreturn\u001b[0m \u001b[1;33m[\u001b[0m\u001b[0mensure_dtraj\u001b[0m\u001b[1;33m(\u001b[0m\u001b[0mdtrajs\u001b[0m\u001b[1;33m)\u001b[0m\u001b[1;33m]\u001b[0m\u001b[1;33m\u001b[0m\u001b[0m\n\u001b[0m\u001b[0;32m    181\u001b[0m \u001b[1;33m\u001b[0m\u001b[0m\n\u001b[0;32m    182\u001b[0m \u001b[1;32mdef\u001b[0m \u001b[0mensure_int_vector\u001b[0m\u001b[1;33m(\u001b[0m\u001b[0mI\u001b[0m\u001b[1;33m,\u001b[0m \u001b[0mrequire_order\u001b[0m \u001b[1;33m=\u001b[0m \u001b[1;32mFalse\u001b[0m\u001b[1;33m)\u001b[0m\u001b[1;33m:\u001b[0m\u001b[1;33m\u001b[0m\u001b[0m\n",
      "\u001b[1;32m~\\AppData\\Local\\conda\\conda\\envs\\py36\\lib\\site-packages\\pyemma\\util\\types.py\u001b[0m in \u001b[0;36mensure_dtraj\u001b[1;34m(dtraj)\u001b[0m\n\u001b[0;32m    163\u001b[0m         raise TypeError('Argument dtraj is not a discrete trajectory - '\n\u001b[0;32m    164\u001b[0m                         \u001b[1;34m'only list of integers or int-ndarrays are allowed. '\u001b[0m\u001b[1;33m\u001b[0m\u001b[0m\n\u001b[1;32m--> 165\u001b[1;33m                         'Check type of %s' % repr(dtraj))\n\u001b[0m\u001b[0;32m    166\u001b[0m \u001b[1;33m\u001b[0m\u001b[0m\n\u001b[0;32m    167\u001b[0m \u001b[1;32mdef\u001b[0m \u001b[0mensure_dtraj_list\u001b[0m\u001b[1;33m(\u001b[0m\u001b[0mdtrajs\u001b[0m\u001b[1;33m)\u001b[0m\u001b[1;33m:\u001b[0m\u001b[1;33m\u001b[0m\u001b[0m\n",
      "\u001b[1;31mTypeError\u001b[0m: Argument dtraj is not a discrete trajectory - only list of integers or int-ndarrays are allowed. Check type of array([[1, 0, 1, 1, 1, 1, 1, 1, 1, 1, 1],\n       [1, 0, 0, 0, 0, 0, 0, 0, 0, 0, 1],\n       [1, 1, 1, 1, 1, 1, 1, 0, 1, 0, 1],\n       [1, 0, 0, 0, 0, 0, 1, 0, 1, 0, 1],\n       [1, 0, 1, 1, 1, 0, 1, 1, 1, 0, 1],\n       [1, 0, 1, 0, 1, 0, 0, 0, 1, 0, 1],\n       [1, 0, 1, 0, 1, 0, 1, 0, 1, 0, 1],\n       [1, 0, 1, 0, 1, 0, 1, 0, 1, 0, 1],\n       [1, 0, 1, 0, 1, 1, 1, 1, 1, 0, 1],\n       [1, 0, 0, 0, 0, 0, 0, 0, 0, 0, 0],\n       [1, 1, 1, 1, 1, 1, 1, 1, 1, 1, 1]])"
     ]
    }
   ],
   "source": [
    "M = pyemma.msm.estimate_markov_model(maze(10,10), lag=12)"
   ]
  },
  {
   "cell_type": "code",
   "execution_count": 47,
   "metadata": {},
   "outputs": [
    {
     "name": "stdout",
     "output_type": "stream",
     "text": [
      "[[ 0.781  0.219]\n",
      " [ 0.156  0.844]]\n",
      "[0 1]\n"
     ]
    }
   ],
   "source": [
    "from pyemma import msm\n",
    "import numpy as np\n",
    "np.set_printoptions(precision=3)\n",
    "M=([[1, 0, 1, 1, 1, 1, 1, 1, 1, 1, 1],\n",
    "       [1, 0, 0, 0, 0, 0, 0, 0, 0, 0, 1],\n",
    "       [1, 1, 1, 1, 1, 1, 1, 0, 1, 0, 1],\n",
    "       [1, 0, 0, 0, 0, 0, 1, 0, 1, 0, 1],\n",
    "       [1, 0, 1, 1, 1, 0, 1, 1, 1, 0, 1],\n",
    "       [1, 0, 1, 0, 1, 0, 0, 0, 1, 0, 1],\n",
    "       [1, 0, 1, 0, 1, 0, 1, 0, 1, 0, 1],\n",
    "       [1, 0, 1, 0, 1, 0, 1, 0, 1, 0, 1],\n",
    "       [1, 0, 1, 0, 1, 1, 1, 1, 1, 0, 1],\n",
    "       [1, 0, 0, 0, 0, 0, 0, 0, 0, 0, 0],\n",
    "       [1, 1, 1, 1, 1, 1, 1, 1, 1, 1, 1]])\n",
    "#mm = msm.estimate_hidden_markov_model(M, 2,2)\n",
    "mm = msm.estimate_markov_model(M, 4)\n",
    "print(mm.transition_matrix)\n",
    "print(mm.active_set)\n"
   ]
  },
  {
   "cell_type": "code",
   "execution_count": 67,
   "metadata": {},
   "outputs": [
    {
     "name": "stdout",
     "output_type": "stream",
     "text": [
      "3\n",
      "visited at01\n"
     ]
    },
    {
     "data": {
      "text/plain": [
       "False"
      ]
     },
     "execution_count": 67,
     "metadata": {},
     "output_type": "execute_result"
    }
   ],
   "source": [
    "def search(grid,x, y):\n",
    "    if grid[x][y] == 2:\n",
    "        print('found at' + repr(x) + repr(y))\n",
    "        return True\n",
    "    elif grid[x][y] == 1:\n",
    "        print( 'wall at' + repr(x) + repr(y))\n",
    "        return False\n",
    "    elif grid[x][y] == 3:\n",
    "        print( 'visited at' + repr(x) + repr(y))\n",
    "        return False\n",
    "     \n",
    "    print('visiting' + repr(x) + repr(y))\n",
    " \n",
    "    # mark as visited\n",
    "    grid[x][y] = 3\n",
    " \n",
    "    # explore neighbors clockwise starting by the one on the right\n",
    "    if ((x < len(grid)-1 and search(x+1, y))\n",
    "        or (y > 0 and search(x, y-1))\n",
    "        or (x > 0 and search(x-1, y))\n",
    "        or (y < len(grid)-1 and search(x, y+1))):\n",
    "        return True\n",
    " \n",
    "    return False\n",
    "print(M[0][1])\n",
    "search(M,0, 1)"
   ]
  },
  {
   "cell_type": "code",
   "execution_count": null,
   "metadata": {},
   "outputs": [],
   "source": []
  },
  {
   "cell_type": "code",
   "execution_count": null,
   "metadata": {},
   "outputs": [],
   "source": []
  }
 ],
 "metadata": {
  "kernelspec": {
   "display_name": "Python 3",
   "language": "python",
   "name": "python3"
  },
  "language_info": {
   "codemirror_mode": {
    "name": "ipython",
    "version": 3
   },
   "file_extension": ".py",
   "mimetype": "text/x-python",
   "name": "python",
   "nbconvert_exporter": "python",
   "pygments_lexer": "ipython3",
   "version": "3.6.4"
  }
 },
 "nbformat": 4,
 "nbformat_minor": 2
}
