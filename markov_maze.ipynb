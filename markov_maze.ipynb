{
 "cells": [
  {
   "cell_type": "code",
   "execution_count": 2,
   "metadata": {},
   "outputs": [],
   "source": [
    "import pyemma"
   ]
  },
  {
   "cell_type": "code",
   "execution_count": 169,
   "metadata": {},
   "outputs": [
    {
     "data": {
      "image/png": "[encoded data removed]",
      "text/plain": [
       "<matplotlib.figure.Figure at 0x21de770f198>"
      ]
     },
     "metadata": {},
     "output_type": "display_data"
    },
    {
     "name": "stdout",
     "output_type": "stream",
     "text": [
      "11.0\n"
     ]
    }
   ],
   "source": [
    "import numpy\n",
    "from numpy.random import random_integers as randint\n",
    "import matplotlib as mpl\n",
    "import matplotlib.pyplot as pyplot\n",
    "import random\n",
    "from fractions import Fraction\n",
    "import warnings\n",
    "\n",
    "# Beautify\n",
    "warnings.filterwarnings(\"ignore\", category=DeprecationWarning)\n",
    "\n",
    "def maze(width=50, height=50, complexity=.75, density=.75):\n",
    "\n",
    "    # Limit to odd dimensions\n",
    "    shape = ((height // 2) * 2 + 1, (width // 2) * 2 + 1)\n",
    "\n",
    "    # Sections\n",
    "    complexity = int(complexity * (5 * (shape[0] + shape[1])))\n",
    "    density    = int(density * ((shape[0] // 2) * (shape[1] // 2)))\n",
    "\n",
    "    # Fill maze with walls\n",
    "    Z = numpy.zeros(shape, dtype=float)\n",
    "\n",
    "    # Set borders\n",
    "    Z[0, :] = Z[-1, :] = 1\n",
    "    Z[:, 0] = Z[:, -1] = 1\n",
    "\n",
    "    # Generate pathways\n",
    "    for i in range(density):\n",
    "        x, y = randint(0, shape[1] // 2) * 2, randint(0, shape[0] // 2) * 2\n",
    "        Z[y, x] = 1\n",
    "        for j in range(complexity):\n",
    "            neighbours = []\n",
    "            if x > 1:             neighbours.append((y, x - 2))\n",
    "            if x < shape[1] - 2:  neighbours.append((y, x + 2))\n",
    "            if y > 1:             neighbours.append((y - 2, x))\n",
    "            if y < shape[0] - 2:  neighbours.append((y + 2, x))\n",
    "            if len(neighbours):\n",
    "                y_,x_ = neighbours[randint(0, len(neighbours) - 1)]\n",
    "                if Z[y_, x_] == 0:\n",
    "                    Z[y_, x_] = 1\n",
    "                    Z[y_ + (y - y_) // 2, x_ + (x - x_) // 2] = 1\n",
    "                    x, y = x_, y_\n",
    "\n",
    "    # Set start\n",
    "    while True:\n",
    "        x = randint(1, height - 1)\n",
    "        if Z[1, x] == 0:\n",
    "            Z[0, x] = 0.5\n",
    "            break\n",
    "\n",
    "    # Set exit\n",
    "    while True:\n",
    "        x = randint(1, width - 1)\n",
    "        if Z[height - 1, x] == 0:\n",
    "            Z[height, x] = 0.5\n",
    "            break\n",
    "    return Z\n",
    "\n",
    "# Generate the maze\n",
    "dimension = 11\n",
    "if dimension == 1:\n",
    "    dimension = 3\n",
    "if dimension % 2 != 0:dimension -=1\n",
    "width = height = dimension\n",
    "Z = maze(width,height)\n",
    "\n",
    "# Draw the maze'\n",
    "cmap = mpl.colors.ListedColormap(['white', 'red', 'black'])\n",
    "figureSize = 10\n",
    "pyplot.figure(figsize=(figureSize, figureSize))\n",
    "pyplot.imshow(Z, cmap=cmap, interpolation='none')\n",
    "pyplot.xticks([]), pyplot.yticks([])\n",
    "pyplot.show()\n",
    "\n",
    "# Set start and exit as white\n",
    "for x in range(width + 1):\n",
    "    for y in range(height + 1):\n",
    "        if Z[y, x] == 0.5: Z[y, x] = 0\n",
    "M=Z\n",
    "print(numpy.sqrt(M.size))\n",
    "a=numpy.sqrt(M.size)\n",
    "width = height = a.astype(numpy.int64)"
   ]
  },
  {
   "cell_type": "code",
   "execution_count": 170,
   "metadata": {},
   "outputs": [
    {
     "data": {
      "text/plain": [
       "<matplotlib.image.AxesImage at 0x21deafb2400>"
      ]
     },
     "execution_count": 170,
     "metadata": {},
     "output_type": "execute_result"
    },
    {
     "data": {
      "image/png": "[encoded data removed]",
      "text/plain": [
       "<matplotlib.figure.Figure at 0x21deae713c8>"
      ]
     },
     "metadata": {},
     "output_type": "display_data"
    }
   ],
   "source": [
    "s=(height*width,width*height)\n",
    "T=numpy.ones(s)\n",
    "\n",
    "for i in range(width):\n",
    "    for j in range(height):\n",
    "        if M[i][j] == 1:\n",
    "            for m in range(s[0]):\n",
    "                for n in range(s[1]):\n",
    "                    T[i*width+j][n]=0\n",
    "                    T[m][i*width+j]=0\n",
    "                    modm= m % 2\n",
    "                    modn= n % 2\n",
    "                    if modm==modn:\n",
    "                        T[m][n]=0\n",
    "    \n",
    "\n",
    "for m in range(s[0]):\n",
    "    for n in range(s[1]):\n",
    "        if  abs(m-n)!=1:\n",
    "            T[m][n]=0\n",
    "plt.imshow(T)"
   ]
  },
  {
   "cell_type": "code",
   "execution_count": 171,
   "metadata": {},
   "outputs": [
    {
     "name": "stdout",
     "output_type": "stream",
     "text": [
      "11\n"
     ]
    },
    {
     "data": {
      "image/png": "[encoded data removed]",
      "text/plain": [
       "<matplotlib.figure.Figure at 0x21deafbaa58>"
      ]
     },
     "metadata": {},
     "output_type": "display_data"
    }
   ],
   "source": [
    "s=(height*width,width*height)\n",
    "G=numpy.ones(s)\n",
    "\n",
    "for i in range(width):\n",
    "    for j in range(height):\n",
    "        if M[i][j] == 1:\n",
    "            for m in range(s[0]):\n",
    "                for n in range(s[1]):\n",
    "                    G[i*width+j][n]=0\n",
    "                    G[m][i*width+j]=0\n",
    "                    modm= m % 2\n",
    "                    modn= n % 2\n",
    "                    if modm==modn:\n",
    "                        G[m][n]=0\n",
    "    \n",
    "\n",
    "for m in range(s[0]):\n",
    "    for n in range(s[1]):\n",
    "        if  abs(m-n)!=numpy.sqrt(height*width):\n",
    "            G[m][n]=0\n",
    "plt.imshow(G)\n",
    "print(height)"
   ]
  },
  {
   "cell_type": "code",
   "execution_count": 172,
   "metadata": {},
   "outputs": [
    {
     "data": {
      "text/plain": [
       "<matplotlib.image.AxesImage at 0x21deb06b748>"
      ]
     },
     "execution_count": 172,
     "metadata": {},
     "output_type": "execute_result"
    },
    {
     "data": {
      "image/png": "[encoded data removed]",
      "text/plain": [
       "<matplotlib.figure.Figure at 0x21deaeee278>"
      ]
     },
     "metadata": {},
     "output_type": "display_data"
    }
   ],
   "source": [
    "O=numpy.zeros(s)\n",
    "for m in range(s[0]):\n",
    "    for n in range(s[1]):\n",
    "        if m==n:\n",
    "            O[m][n]=1\n",
    "plt.imshow(O)"
   ]
  },
  {
   "cell_type": "code",
   "execution_count": 173,
   "metadata": {},
   "outputs": [
    {
     "data": {
      "text/plain": [
       "<matplotlib.image.AxesImage at 0x21deb0c9c18>"
      ]
     },
     "execution_count": 173,
     "metadata": {},
     "output_type": "execute_result"
    },
    {
     "data": {
      "image/png": "[encoded data removed]",
      "text/plain": [
       "<matplotlib.figure.Figure at 0x21deadbe5f8>"
      ]
     },
     "metadata": {},
     "output_type": "display_data"
    }
   ],
   "source": [
    "P=T+G+O\n",
    "for row in range(P.shape[0]):\n",
    "    P[row] /= numpy.sum(P[row])\n",
    "P=numpy.nan_to_num(P)\n",
    "plt.imshow(P)\n",
    "#print(P.sum(axis=1))"
   ]
  },
  {
   "cell_type": "code",
   "execution_count": 174,
   "metadata": {},
   "outputs": [],
   "source": [
    "import msmtools"
   ]
  },
  {
   "cell_type": "code",
   "execution_count": 175,
   "metadata": {},
   "outputs": [],
   "source": [
    "msm = pyemma.msm.markov_model(msmtools.estimation.largest_connected_submatrix(P))\n",
    "keptindices = msmtools.estimation.largest_connected_set(P)"
   ]
  },
  {
   "cell_type": "code",
   "execution_count": 176,
   "metadata": {},
   "outputs": [
    {
     "data": {
      "text/plain": [
       "<matplotlib.colorbar.Colorbar at 0x21deae350f0>"
      ]
     },
     "execution_count": 176,
     "metadata": {},
     "output_type": "execute_result"
    },
    {
     "data": {
      "image/png": "[encoded data removed]",
      "text/plain": [
       "<matplotlib.figure.Figure at 0x21deae35dd8>"
      ]
     },
     "metadata": {},
     "output_type": "display_data"
    }
   ],
   "source": [
    "plt.matshow(msmtools.estimation.largest_connected_submatrix(P))\n",
    "plt.colorbar()"
   ]
  }
 ],
 "metadata": {
  "kernelspec": {
   "display_name": "Python 3",
   "language": "python",
   "name": "python3"
  },
  "language_info": {
   "codemirror_mode": {
    "name": "ipython",
    "version": 3
   },
   "file_extension": ".py",
   "mimetype": "text/x-python",
   "name": "python",
   "nbconvert_exporter": "python",
   "pygments_lexer": "ipython3",
   "version": "3.6.4"
  }
 },
 "nbformat": 4,
 "nbformat_minor": 2
}
